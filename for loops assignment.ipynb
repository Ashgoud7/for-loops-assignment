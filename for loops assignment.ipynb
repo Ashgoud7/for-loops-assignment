{
 "cells": [
  {
   "cell_type": "code",
   "execution_count": 6,
   "id": "567e3dcb",
   "metadata": {},
   "outputs": [
    {
     "name": "stdout",
     "output_type": "stream",
     "text": [
      "1\n",
      "2\n",
      "3\n",
      "4\n",
      "5\n"
     ]
    }
   ],
   "source": [
    "\n",
    "for i in range(1,6):\n",
    "    print(i)\n",
    "    "
   ]
  },
  {
   "cell_type": "code",
   "execution_count": 42,
   "id": "67f9dca7",
   "metadata": {},
   "outputs": [
    {
     "name": "stdout",
     "output_type": "stream",
     "text": [
      "      \n",
      "     *\n",
      "    **\n",
      "   ***\n",
      "  ****\n",
      " *****\n"
     ]
    }
   ],
   "source": [
    "for i in range(0,6):\n",
    "    print((6-i)*\" \"+i*\"*\")\n"
   ]
  },
  {
   "cell_type": "code",
   "execution_count": 74,
   "id": "207fac3e",
   "metadata": {
    "scrolled": true
   },
   "outputs": [
    {
     "name": "stdout",
     "output_type": "stream",
     "text": [
      "*****\n",
      " ****\n",
      "  ***\n",
      "   **\n",
      "    *\n"
     ]
    }
   ],
   "source": [
    "for i in range(5,0,-1):\n",
    "    print((5-i)*\" \"+i*\"*\")"
   ]
  },
  {
   "cell_type": "code",
   "execution_count": 49,
   "id": "ba9d423b",
   "metadata": {},
   "outputs": [
    {
     "name": "stdout",
     "output_type": "stream",
     "text": [
      "\n",
      "*\n",
      "**\n",
      "***\n",
      "****\n",
      "*****\n"
     ]
    }
   ],
   "source": [
    "for i in range(0,6):\n",
    "    print(i*\"*\")\n",
    "    "
   ]
  },
  {
   "cell_type": "code",
   "execution_count": 55,
   "id": "df73f373",
   "metadata": {},
   "outputs": [
    {
     "name": "stdout",
     "output_type": "stream",
     "text": [
      "*****\n",
      "****\n",
      "***\n",
      "**\n",
      "*\n"
     ]
    }
   ],
   "source": [
    "for i in range(5,0,-1):\n",
    "        print(i*\"*\")"
   ]
  },
  {
   "cell_type": "code",
   "execution_count": 61,
   "id": "3d99cfc6",
   "metadata": {},
   "outputs": [
    {
     "name": "stdout",
     "output_type": "stream",
     "text": [
      "*\n",
      "**\n",
      "***\n",
      "****\n",
      "*****\n",
      "****\n",
      "***\n",
      "**\n",
      "*\n"
     ]
    }
   ],
   "source": [
    "for i in range(1,6):\n",
    "    print(i*\"*\")\n",
    "if i==5:\n",
    "    for i in range(4,0,-1):\n",
    "        print(i*\"*\")"
   ]
  },
  {
   "cell_type": "code",
   "execution_count": 45,
   "id": "a594664a",
   "metadata": {
    "scrolled": true
   },
   "outputs": [
    {
     "name": "stdout",
     "output_type": "stream",
     "text": [
      "*****\n",
      "****\n",
      "***\n",
      "**\n",
      "*\n",
      "**\n",
      "***\n",
      "****\n",
      "*****\n"
     ]
    }
   ],
   "source": [
    "for i in range(5,0,-1):\n",
    "    print(i*\"*\")\n",
    "    if i==1:\n",
    "        for i in range(2,6):\n",
    "            print(i*\"*\")\n"
   ]
  },
  {
   "cell_type": "code",
   "execution_count": 72,
   "id": "e28cd251",
   "metadata": {},
   "outputs": [
    {
     "name": "stdout",
     "output_type": "stream",
     "text": [
      "      \n",
      "     *\n",
      "    **\n",
      "   ***\n",
      "  ****\n",
      " *****\n",
      "******\n",
      " *****\n",
      "  ****\n",
      "   ***\n",
      "    **\n",
      "     *\n"
     ]
    }
   ],
   "source": [
    "for i in range(0,6):\n",
    "    print((6-i)*\" \"+i*\"*\")\n",
    "    if i==5:\n",
    "        for i in range(6,0,-1):\n",
    "            print((6-i)*\" \"+i*\"*\")\n"
   ]
  },
  {
   "cell_type": "code",
   "execution_count": 77,
   "id": "a6586bd1",
   "metadata": {},
   "outputs": [
    {
     "name": "stdout",
     "output_type": "stream",
     "text": [
      "*****\n",
      "****\n",
      "***\n",
      "**\n",
      "*\n",
      "**\n",
      "***\n",
      "****\n",
      "*****\n"
     ]
    }
   ],
   "source": [
    "\n",
    "        \n",
    "            \n"
   ]
  },
  {
   "cell_type": "markdown",
   "id": "cfbb6fac",
   "metadata": {},
   "source": []
  },
  {
   "cell_type": "code",
   "execution_count": 106,
   "id": "b84be9f5",
   "metadata": {},
   "outputs": [
    {
     "name": "stdout",
     "output_type": "stream",
     "text": [
      "******\n",
      " *****\n",
      "  ****\n",
      "   ***\n",
      "    **\n",
      "     *\n",
      "    **\n",
      "   ***\n",
      "  ****\n",
      " *****\n",
      "******\n"
     ]
    }
   ],
   "source": [
    "for i in range(5,0,-1):\n",
    "    print((5-i)*\" \"+(i+1)*\"*\")\n",
    "    if i ==1:\n",
    "        for i in range(0,6):\n",
    "            print((5-i)*\" \"+(i+1)*\"*\")"
   ]
  },
  {
   "cell_type": "code",
   "execution_count": 8,
   "id": "24df3db6",
   "metadata": {},
   "outputs": [
    {
     "name": "stdout",
     "output_type": "stream",
     "text": [
      "     \n",
      "     *\n",
      "    * *\n",
      "   * * *\n",
      "  * * * *\n",
      " * * * * *\n"
     ]
    }
   ],
   "source": [
    "for i in range(0,6):\n",
    "    print((5-i)*\" \"+i*\" \"\"*\")\n"
   ]
  },
  {
   "cell_type": "code",
   "execution_count": 111,
   "id": "686bc1cb",
   "metadata": {},
   "outputs": [
    {
     "name": "stdout",
     "output_type": "stream",
     "text": [
      " * * * * *\n",
      "  * * * *\n",
      "   * * *\n",
      "    * *\n",
      "     *\n"
     ]
    }
   ],
   "source": [
    "for i in range(5,0,-1):\n",
    "    print((5-i)*\" \"+i*\" \"\"*\")"
   ]
  },
  {
   "cell_type": "code",
   "execution_count": 23,
   "id": "ab0e2fc6",
   "metadata": {},
   "outputs": [
    {
     "name": "stdout",
     "output_type": "stream",
     "text": [
      " * * * * * * * * *\n",
      "   * * * * * * *\n",
      "     * * * * *\n",
      "       * * *\n",
      "         *\n",
      "       * * *\n",
      "     * * * * *\n",
      "   * * * * * * *\n",
      " * * * * * * * * *\n"
     ]
    }
   ],
   "source": [
    "for i in range(9,0,-2):\n",
    "    print((9-i)*\" \"+i*\" \"\"*\")\n",
    "    if i ==1:\n",
    "        for i in range(3,11,2):\n",
    "            print((9-i)*\" \"+i*\" \"\"*\")\n",
    "    "
   ]
  },
  {
   "cell_type": "code",
   "execution_count": 27,
   "id": "0fdaf225",
   "metadata": {},
   "outputs": [
    {
     "name": "stdout",
     "output_type": "stream",
     "text": [
      "          \n",
      "*        *\n",
      "**      **\n",
      "***    ***\n",
      "****  ****\n",
      "**********\n"
     ]
    }
   ],
   "source": [
    "for i in range(10,-2,-2):\n",
    "    print((i*\" \").center(10,\"*\"))"
   ]
  },
  {
   "cell_type": "code",
   "execution_count": 34,
   "id": "0ec9a480",
   "metadata": {},
   "outputs": [
    {
     "name": "stdout",
     "output_type": "stream",
     "text": [
      "**********\n",
      "****  ****\n",
      "***    ***\n",
      "**      **\n",
      "*        *\n"
     ]
    }
   ],
   "source": [
    "for i in range(0,10,2):\n",
    "    print((i*\" \").center(10,\"*\"))"
   ]
  },
  {
   "cell_type": "code",
   "execution_count": 36,
   "id": "a2d924aa",
   "metadata": {},
   "outputs": [
    {
     "name": "stdout",
     "output_type": "stream",
     "text": [
      "          \n",
      "*        *\n",
      "**      **\n",
      "***    ***\n",
      "****  ****\n",
      "**********\n",
      "****  ****\n",
      "***    ***\n",
      "**      **\n",
      "*        *\n"
     ]
    }
   ],
   "source": [
    "for i in range(10,0,-2):\n",
    "    print((i*\" \").center(10,\"*\"))\n",
    "    if i==2:\n",
    "        for i in range(0,10,2):\n",
    "            print((i*\" \").center(10,\"*\"))            "
   ]
  },
  {
   "cell_type": "code",
   "execution_count": 46,
   "id": "3f4578fb",
   "metadata": {},
   "outputs": [
    {
     "name": "stdout",
     "output_type": "stream",
     "text": [
      "**********\n",
      "****  ****\n",
      "***    ***\n",
      "**      **\n",
      "*        *\n",
      "*        *\n",
      "**      **\n",
      "***    ***\n",
      "****  ****\n",
      "**********\n"
     ]
    }
   ],
   "source": [
    "for i in range(0,10,2):\n",
    "    print((i*\" \").center(10,\"*\"))\n",
    "    if i==8:\n",
    "        for i in range(8,-2,-2):\n",
    "            print((i*\" \").center(10,\"*\"))"
   ]
  },
  {
   "cell_type": "code",
   "execution_count": 63,
   "id": "74f63d6f",
   "metadata": {},
   "outputs": [
    {
     "name": "stdout",
     "output_type": "stream",
     "text": [
      "*    \n",
      "**   \n",
      "* *  \n",
      "*  * \n",
      "*****\n"
     ]
    }
   ],
   "source": [
    "for i in range(0,5):\n",
    "    for j in range(0,5):\n",
    "        if j==0 or j==i or i==5-1:\n",
    "            print(\"*\",end=\"\")\n",
    "        else:\n",
    "            print(end=\" \")\n",
    "    print()"
   ]
  },
  {
   "cell_type": "code",
   "execution_count": 75,
   "id": "07241281",
   "metadata": {},
   "outputs": [
    {
     "name": "stdout",
     "output_type": "stream",
     "text": [
      "*****\n",
      "*  * \n",
      "* *  \n",
      "**   \n",
      "*    \n"
     ]
    }
   ],
   "source": [
    "for i in range(0,5):\n",
    "    for j in range(0,5):\n",
    "        if j==0 or i==0 or i+j==5-1:\n",
    "            print(\"*\",end=\"\")\n",
    "        else:\n",
    "            print(\"\",end=\" \")\n",
    "    print()"
   ]
  },
  {
   "cell_type": "code",
   "execution_count": 89,
   "id": "f2be6005",
   "metadata": {},
   "outputs": [
    {
     "name": "stdout",
     "output_type": "stream",
     "text": [
      "    *\n",
      "   **\n",
      "  * *\n",
      " *  *\n",
      "*****\n"
     ]
    }
   ],
   "source": [
    "for i in range(0,5):\n",
    "    for j in range(0,5):\n",
    "        if j==4-i or j==5-1 or i==5-1:\n",
    "            print(\"*\",end=\"\")\n",
    "        else:\n",
    "            print(end=\" \")\n",
    "    print()\n"
   ]
  },
  {
   "cell_type": "code",
   "execution_count": 92,
   "id": "c0648211",
   "metadata": {},
   "outputs": [
    {
     "name": "stdout",
     "output_type": "stream",
     "text": [
      "*****\n",
      "*  * \n",
      "* *  \n",
      "**   \n",
      "*    \n",
      "**   \n",
      "* *  \n",
      "*  * \n",
      "*****\n"
     ]
    }
   ],
   "source": [
    "\n",
    "for i in range(9):\n",
    "    for j in range(5):\n",
    "        if i==0 or j==0 or i==(5-1)+j or i==(5-1)-j or i==9-1:\n",
    "            print(\"*\",end=\"\")\n",
    "        else:\n",
    "            print(end=\" \")\n",
    "    print()"
   ]
  },
  {
   "cell_type": "code",
   "execution_count": 96,
   "id": "0750c7fe",
   "metadata": {},
   "outputs": [
    {
     "name": "stdout",
     "output_type": "stream",
     "text": [
      "*****\n",
      " *  *\n",
      "  * *\n",
      "   **\n",
      "    *\n",
      "   **\n",
      "  * *\n",
      " *  *\n",
      "*****\n"
     ]
    }
   ],
   "source": [
    "\n",
    "for i in range(9):\n",
    "    for j in range(5):\n",
    "        if i==0 or i==(9-1) or j==(5-1) or i==j or j==(9-i)-1:\n",
    "            print(\"*\",end=\"\")\n",
    "        else:\n",
    "            print(end=\" \")\n",
    "    print()"
   ]
  },
  {
   "cell_type": "code",
   "execution_count": 102,
   "id": "dd022974",
   "metadata": {},
   "outputs": [
    {
     "name": "stdout",
     "output_type": "stream",
     "text": [
      "    *    \n",
      "   * *   \n",
      "  *   *  \n",
      " *     * \n",
      "*********\n"
     ]
    }
   ],
   "source": [
    "\n",
    "for i in range(5):\n",
    "    for j in range(9):\n",
    "        if i==(5-1) or j==(5-1)-i or j==(5-1)+i:\n",
    "            print(\"*\",end=\"\")\n",
    "        else:\n",
    "            print(end=\" \")\n",
    "    print()"
   ]
  },
  {
   "cell_type": "code",
   "execution_count": 104,
   "id": "4cddb00e",
   "metadata": {},
   "outputs": [
    {
     "name": "stdout",
     "output_type": "stream",
     "text": [
      "*********\n",
      " *     * \n",
      "  *   *  \n",
      "   * *   \n",
      "    *    \n"
     ]
    }
   ],
   "source": [
    "for i in range(5):\n",
    "    for j in range(9):\n",
    "        if j==i or i==0 or j==(9-1)-i:\n",
    "            print(\"*\",end=\"\")\n",
    "        else:\n",
    "            print(end=\" \")\n",
    "    print()\n"
   ]
  },
  {
   "cell_type": "code",
   "execution_count": 106,
   "id": "10ff4112",
   "metadata": {},
   "outputs": [
    {
     "name": "stdout",
     "output_type": "stream",
     "text": [
      "    *    \n",
      "   * *   \n",
      "  *   *  \n",
      " *     * \n",
      "*       *\n",
      " *     * \n",
      "  *   *  \n",
      "   * *   \n",
      "    *    \n"
     ]
    }
   ],
   "source": [
    "for i in range(9):\n",
    "    for j in range(9,0,-1):\n",
    "        if i==j-5 or i==3+j or j==z+(9-i) or j==5-i:\n",
    "            print(\"*\",end=\"\")\n",
    "        else:\n",
    "            print(end=\" \")\n",
    "    print()"
   ]
  },
  {
   "cell_type": "code",
   "execution_count": 108,
   "id": "ff3993e1",
   "metadata": {},
   "outputs": [
    {
     "name": "stdout",
     "output_type": "stream",
     "text": [
      "*********\n",
      " *     * \n",
      "  *   *  \n",
      "   * *   \n",
      "    *    \n",
      "   * *   \n",
      "  *   *  \n",
      " *     * \n",
      "*********\n"
     ]
    }
   ],
   "source": [
    "for i in range(9):\n",
    "    for j in range(9):\n",
    "        if i==j or i==((9-1)-j) or i==0 or i==(9-1):\n",
    "            print(\"*\",end=\"\")\n",
    "        else:\n",
    "            print(end=\" \")\n",
    "    print()"
   ]
  },
  {
   "cell_type": "code",
   "execution_count": 110,
   "id": "f1b9daf7",
   "metadata": {},
   "outputs": [
    {
     "name": "stdout",
     "output_type": "stream",
     "text": [
      "*****\n",
      "*****\n",
      "*****\n",
      "*****\n",
      "*****\n"
     ]
    }
   ],
   "source": [
    "for i in range(5):\n",
    "    for j in range(5):\n",
    "        if i==i:\n",
    "            print(\"*\",end=\"\")\n",
    "    print()"
   ]
  },
  {
   "cell_type": "markdown",
   "id": "4e9c7f1e",
   "metadata": {},
   "source": [
    "#### numbers "
   ]
  },
  {
   "cell_type": "code",
   "execution_count": 112,
   "id": "42c4387a",
   "metadata": {},
   "outputs": [
    {
     "name": "stdout",
     "output_type": "stream",
     "text": [
      "1  \n",
      "1 2  \n",
      "1 2 3  \n",
      "1 2 3 4  \n",
      "1 2 3 4 5  \n"
     ]
    }
   ],
   "source": [
    "for i in range(1,5+1):\n",
    "    for space in range(1,i+1):\n",
    "        print(space,end=\" \")\n",
    "    print(\" \")"
   ]
  },
  {
   "cell_type": "code",
   "execution_count": 113,
   "id": "b9e584c4",
   "metadata": {},
   "outputs": [
    {
     "name": "stdout",
     "output_type": "stream",
     "text": [
      "\n",
      "1 \n",
      "2 2 \n",
      "3 3 3 \n",
      "4 4 4 4 \n",
      "5 5 5 5 5 \n"
     ]
    }
   ],
   "source": [
    "for i in range(5+1):\n",
    "    for j in range(i):\n",
    "        print(i,end=\" \")\n",
    "    print()"
   ]
  },
  {
   "cell_type": "code",
   "execution_count": 118,
   "id": "9a008955",
   "metadata": {},
   "outputs": [
    {
     "name": "stdout",
     "output_type": "stream",
     "text": [
      "A \n",
      "A B \n",
      "A B C \n",
      "A B C D \n",
      "A B C D E \n"
     ]
    }
   ],
   "source": [
    "for i in range(65,70):\n",
    "    for j in range(65,i+1):\n",
    "        print(chr(j),end=\" \")\n",
    "    print()"
   ]
  },
  {
   "cell_type": "code",
   "execution_count": 119,
   "id": "e3df3860",
   "metadata": {},
   "outputs": [
    {
     "name": "stdout",
     "output_type": "stream",
     "text": [
      "A \n",
      "B B \n",
      "C C C \n",
      "D D D D \n",
      "E E E E E \n"
     ]
    }
   ],
   "source": [
    "for i in range(65,70):\n",
    "    for j in range(65,i+1):\n",
    "        print(chr(i),end=\" \")\n",
    "    print()"
   ]
  },
  {
   "cell_type": "code",
   "execution_count": 166,
   "id": "f207c399",
   "metadata": {},
   "outputs": [
    {
     "name": "stdout",
     "output_type": "stream",
     "text": [
      "      1 \n",
      "     1 2 \n",
      "    1 2 3 \n",
      "   1 2 3 4 \n",
      "  1 2 3 4 5 \n"
     ]
    }
   ],
   "source": [
    "for i in range(1,6):\n",
    "    print(\" \"*(6-i),end=\" \")\n",
    "    for j in range(1,i+1):\n",
    "        print(j,end=\" \")\n",
    "    print()"
   ]
  },
  {
   "cell_type": "code",
   "execution_count": 161,
   "id": "b1b83c36",
   "metadata": {},
   "outputs": [
    {
     "name": "stdout",
     "output_type": "stream",
     "text": [
      "     A \n",
      "    A B \n",
      "   A B C \n",
      "  A B C D \n",
      " A B C D E \n"
     ]
    }
   ],
   "source": [
    "for i in range(65,70):\n",
    "    for j in range(1):\n",
    "        print(((70-i)*\" \"),end=\"\")\n",
    "        for k in range(65,i+1):\n",
    "              print(chr(k),end=\" \")\n",
    "    print()"
   ]
  },
  {
   "cell_type": "code",
   "execution_count": 168,
   "id": "9f93d3cc",
   "metadata": {},
   "outputs": [
    {
     "name": "stdout",
     "output_type": "stream",
     "text": [
      "     E \n",
      "    D E \n",
      "   C D E \n",
      "  B C D E \n",
      " A B C D E \n"
     ]
    }
   ],
   "source": [
    "for i in range(65,70):\n",
    "    print(((70-i)*\" \"),end=\"\")\n",
    "    for j in range((65+70)-(i+1),(70)):\n",
    "        print(chr(j),end=\" \")\n",
    "    print()\n",
    "        "
   ]
  },
  {
   "cell_type": "code",
   "execution_count": 171,
   "id": "10ec9689",
   "metadata": {},
   "outputs": [
    {
     "name": "stdout",
     "output_type": "stream",
     "text": [
      "      1 \n",
      "     2 2 \n",
      "    3 3 3 \n",
      "   4 4 4 4 \n",
      "  5 5 5 5 5 \n"
     ]
    }
   ],
   "source": [
    "for i in range(1,6):\n",
    "    print(\" \"*(6-i),end=\" \")\n",
    "    for j in range(1,i+1):\n",
    "        print(i,end=\" \")\n",
    "    print()"
   ]
  },
  {
   "cell_type": "code",
   "execution_count": 177,
   "id": "9d02e89b",
   "metadata": {},
   "outputs": [
    {
     "name": "stdout",
     "output_type": "stream",
     "text": [
      "1 2 3 4 5  \n",
      "1 2 3 4  \n",
      "1 2 3  \n",
      "1 2  \n",
      "1  \n",
      " \n"
     ]
    }
   ],
   "source": [
    "for i in range(5+1,0,-1):\n",
    "    for j in range(1,i):\n",
    "        print(j,end=\" \")\n",
    "    print(\" \")"
   ]
  },
  {
   "cell_type": "code",
   "execution_count": 178,
   "id": "869883c6",
   "metadata": {},
   "outputs": [
    {
     "name": "stdout",
     "output_type": "stream",
     "text": [
      "5 4 3 2 1 \n",
      "5 4 3 2 \n",
      "5 4 3 \n",
      "5 4 \n",
      "5 \n"
     ]
    }
   ],
   "source": [
    "for i in range(5,0,-1):\n",
    "    for j in range(0,i):\n",
    "        print(5-j,end=\" \")\n",
    "    print()"
   ]
  },
  {
   "cell_type": "code",
   "execution_count": 179,
   "id": "dc86f84a",
   "metadata": {},
   "outputs": [
    {
     "name": "stdout",
     "output_type": "stream",
     "text": [
      " \n",
      "5  \n",
      "5 4  \n",
      "5 4 3  \n",
      "5 4 3 2  \n",
      "5 4 3 2 1  \n"
     ]
    }
   ],
   "source": [
    "for i in range(0,5+1):\n",
    "    for j in range(0,i):\n",
    "        print(5-j,end=\" \")\n",
    "    print(\" \")"
   ]
  },
  {
   "cell_type": "code",
   "execution_count": 183,
   "id": "6a62362e",
   "metadata": {},
   "outputs": [
    {
     "name": "stdout",
     "output_type": "stream",
     "text": [
      "1 \n",
      "2 3 \n",
      "4 5 6 \n",
      "7 8 9 10 \n",
      "11 12 13 14 15 \n"
     ]
    }
   ],
   "source": [
    "n=5\n",
    "m=1\n",
    "for i in range(1,5+1):\n",
    "    for j in range(1,i+1):\n",
    "        print(m,end=\" \")\n",
    "        m=m+1\n",
    "    print()"
   ]
  },
  {
   "cell_type": "code",
   "execution_count": 185,
   "id": "709fcfcf",
   "metadata": {},
   "outputs": [
    {
     "name": "stdout",
     "output_type": "stream",
     "text": [
      "A B C D E \n",
      "A B C D \n",
      "A B C \n",
      "A B \n",
      "A \n",
      "\n",
      "\n",
      "\n",
      "\n",
      "\n",
      "\n",
      "\n",
      "\n",
      "\n",
      "\n",
      "\n",
      "\n",
      "\n",
      "\n",
      "\n",
      "\n",
      "\n",
      "\n",
      "\n",
      "\n",
      "\n",
      "\n",
      "\n",
      "\n",
      "\n",
      "\n",
      "\n",
      "\n",
      "\n",
      "\n",
      "\n",
      "\n",
      "\n",
      "\n",
      "\n",
      "\n",
      "\n",
      "\n",
      "\n",
      "\n",
      "\n",
      "\n",
      "\n",
      "\n",
      "\n",
      "\n",
      "\n",
      "\n",
      "\n",
      "\n",
      "\n",
      "\n",
      "\n",
      "\n",
      "\n",
      "\n",
      "\n",
      "\n",
      "\n",
      "\n",
      "\n",
      "\n",
      "\n",
      "\n"
     ]
    }
   ],
   "source": [
    "for i in range(70,1,-1):\n",
    "    for j in range(65,i):\n",
    "        print(chr(j),end=\" \")\n",
    "    print()"
   ]
  },
  {
   "cell_type": "code",
   "execution_count": null,
   "id": "afd0b31f",
   "metadata": {},
   "outputs": [],
   "source": []
  }
 ],
 "metadata": {
  "kernelspec": {
   "display_name": "Python 3 (ipykernel)",
   "language": "python",
   "name": "python3"
  },
  "language_info": {
   "codemirror_mode": {
    "name": "ipython",
    "version": 3
   },
   "file_extension": ".py",
   "mimetype": "text/x-python",
   "name": "python",
   "nbconvert_exporter": "python",
   "pygments_lexer": "ipython3",
   "version": "3.9.13"
  },
  "toc": {
   "base_numbering": 1,
   "nav_menu": {},
   "number_sections": true,
   "sideBar": true,
   "skip_h1_title": false,
   "title_cell": "Table of Contents",
   "title_sidebar": "Contents",
   "toc_cell": false,
   "toc_position": {},
   "toc_section_display": true,
   "toc_window_display": false
  }
 },
 "nbformat": 4,
 "nbformat_minor": 5
}
